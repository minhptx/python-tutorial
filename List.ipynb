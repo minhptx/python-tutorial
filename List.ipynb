{
 "cells": [
  {
   "cell_type": "markdown",
   "metadata": {
    "slideshow": {
     "slide_type": "-"
    }
   },
   "source": [
    "## Declaration\n",
    "\n",
    "A list is created by placing all the items (elements) inside a square bracket [ ], separated by commas.\n",
    "\n",
    "It can have any number of items and they may be of different types (integer, float, string etc.)."
   ]
  },
  {
   "cell_type": "code",
   "execution_count": 22,
   "metadata": {},
   "outputs": [],
   "source": [
    "list1 = [1, 2, 3, 4, 5 ];\n",
    "list2 = [\"a\", \"b\", \"c\", \"d\"]\n",
    "list3 = ['physics', 'chemistry', 1997, 2000];"
   ]
  },
  {
   "attachments": {
    "image.png": {
     "image/png": "[encoded data removed]"
    }
   },
   "cell_type": "markdown",
   "metadata": {},
   "source": [
    "## Accessing Values in Lists\n",
    "\n",
    "To access values in lists, use the **square brackets []** for accessing values at that index. Index starts from 0. So, a list having $n$ elements will have index from 0 to $n$ - 1.\n",
    "\n",
    "Python allows negative indexing for its sequences. The index of -1 refers to the last item, -2 to the second last item and so on.\n",
    "\n",
    "![image.png](attachment:image.png)"
   ]
  },
  {
   "cell_type": "code",
   "execution_count": 23,
   "metadata": {},
   "outputs": [
    {
     "name": "stdout",
     "output_type": "stream",
     "text": [
      "First element in list:  physics\n",
      "Second element in list:  chemistry\n"
     ]
    }
   ],
   "source": [
    "list1 = ['physics', 'chemistry', 1997, 2000];\n",
    "\n",
    "print(\"First element in list: \", list1[0])\n",
    "print(\"Second element in list: \", list1[1])"
   ]
  },
  {
   "cell_type": "markdown",
   "metadata": {},
   "source": []
  },
  {
   "cell_type": "code",
   "execution_count": 24,
   "metadata": {},
   "outputs": [
    {
     "name": "stdout",
     "output_type": "stream",
     "text": [
      "Last element in list:  2000\n",
      "Third element from the end in list:  chemistry\n"
     ]
    }
   ],
   "source": [
    "print(\"Last element in list: \", list1[-1])\n",
    "\n",
    "print(\"Third element from the end in list: \", list1[-3])\n"
   ]
  },
  {
   "attachments": {
    "image.png": {
     "image/png": "[encoded data removed]"
    }
   },
   "cell_type": "markdown",
   "metadata": {},
   "source": [
    "## Slicing\n",
    "\n",
    "We can access a range of items in a list by using the **slicing operator [:]**\n",
    "\n",
    "![image.png](attachment:image.png)"
   ]
  },
  {
   "cell_type": "code",
   "execution_count": 25,
   "metadata": {
    "scrolled": true
   },
   "outputs": [
    {
     "name": "stdout",
     "output_type": "stream",
     "text": [
      "[2, 3, 4]\n",
      "[0, 1, 2, 3]\n",
      "[0, 1, 2, 3]\n",
      "[5, 6, 7, 8, 9]\n",
      "[0, 1, 2, 3, 4, 5, 6, 7, 8, 9]\n"
     ]
    }
   ],
   "source": [
    "my_list = [0, 1, 2, 3, 4, 5, 6, 7, 8, 9]\n",
    "\n",
    "# elements 3rd to 5th\n",
    "print(my_list[2:5])\n",
    "\n",
    "# elements beginning to 4th\n",
    "print(my_list[:4])\n",
    "print(my_list[:-6])\n",
    "\n",
    "# elements 6th to end\n",
    "print(my_list[5:])\n",
    "\n",
    "# elements beginning to end\n",
    "print(my_list[:])"
   ]
  },
  {
   "cell_type": "markdown",
   "metadata": {},
   "source": [
    "## Change or add elements to a list\n",
    "\n",
    "We can use **assignment operator (=)** to change an item or a range of items"
   ]
  },
  {
   "cell_type": "code",
   "execution_count": 26,
   "metadata": {},
   "outputs": [
    {
     "name": "stdout",
     "output_type": "stream",
     "text": [
      "[1, 4, 6, 8]\n"
     ]
    }
   ],
   "source": [
    "# mistake values\n",
    "odd = [2, 4, 6, 8]\n",
    "\n",
    "# change the 1st item    \n",
    "odd[0] = 1            \n",
    "\n",
    "# Output: [1, 4, 6, 8]\n",
    "print(odd)"
   ]
  },
  {
   "cell_type": "code",
   "execution_count": 27,
   "metadata": {},
   "outputs": [
    {
     "name": "stdout",
     "output_type": "stream",
     "text": [
      "[1, 3, 5, 7]\n"
     ]
    }
   ],
   "source": [
    "# change 2nd to 4th items\n",
    "odd[1:4] = [3, 5, 7]  \n",
    "\n",
    "print(odd) "
   ]
  },
  {
   "cell_type": "markdown",
   "metadata": {},
   "source": [
    "We can:\n",
    "* add one item to a list using **<code>append(item)</code>** method \n",
    "* add several items using **<code>extend([list of items])</code>** method.\n",
    "* insert one item at a desired location by using **<code>insert(index, item)</code>** method"
   ]
  },
  {
   "cell_type": "code",
   "execution_count": 28,
   "metadata": {},
   "outputs": [
    {
     "name": "stdout",
     "output_type": "stream",
     "text": [
      "List after append: [1, 3, 5, 7]\n",
      "List after extend: [1, 3, 5, 7, 9, 13]\n",
      "List after insert: [1, 3, 5, 7, 9, 11, 13]\n"
     ]
    }
   ],
   "source": [
    "odd = [1, 3, 5]\n",
    "\n",
    "odd.append(7)\n",
    "\n",
    "print(\"List after append:\", odd)\n",
    "\n",
    "odd.extend([9, 13])\n",
    "\n",
    "print(\"List after extend:\", odd)\n",
    "\n",
    "odd.insert(5, 11)\n",
    "print(\"List after insert:\", odd)"
   ]
  },
  {
   "cell_type": "markdown",
   "metadata": {},
   "source": [
    "We can use **operator +** to combine two lists."
   ]
  },
  {
   "cell_type": "code",
   "execution_count": 29,
   "metadata": {},
   "outputs": [
    {
     "name": "stdout",
     "output_type": "stream",
     "text": [
      "[1, 3, 5, 9, 7, 5]\n"
     ]
    }
   ],
   "source": [
    "odd = [1, 3, 5]\n",
    "\n",
    "print(odd + [9, 7, 5])"
   ]
  },
  {
   "cell_type": "markdown",
   "metadata": {},
   "source": [
    "We can use **operator *** to repeat a list for the given number of times."
   ]
  },
  {
   "cell_type": "code",
   "execution_count": 30,
   "metadata": {},
   "outputs": [
    {
     "name": "stdout",
     "output_type": "stream",
     "text": [
      "[1, 3, 5, 1, 3, 5, 1, 3, 5]\n"
     ]
    }
   ],
   "source": [
    "odd = [1, 3, 5]\n",
    "\n",
    "print(odd * 3)"
   ]
  },
  {
   "cell_type": "markdown",
   "metadata": {},
   "source": [
    "## Delete or remove elements from a list\n",
    "\n",
    "We can delete one or more items from a list using the keyword **<code>del</code>**"
   ]
  },
  {
   "cell_type": "code",
   "execution_count": 31,
   "metadata": {},
   "outputs": [
    {
     "name": "stdout",
     "output_type": "stream",
     "text": [
      "List after first delete: [1, 3, 7, 9, 11, 13]\n",
      "List after second delete: [1, 3, 11, 13]\n"
     ]
    }
   ],
   "source": [
    "odd = [1, 3, 5, 7, 9, 11, 13]\n",
    "\n",
    "del odd[2]\n",
    "\n",
    "print(\"List after first delete:\", odd)\n",
    "\n",
    "\n",
    "odd = [1, 3, 5, 7, 9, 11, 13]\n",
    "\n",
    "del odd[2:5]\n",
    "\n",
    "print(\"List after second delete:\", odd)"
   ]
  },
  {
   "cell_type": "markdown",
   "metadata": {},
   "source": [
    "We can:\n",
    "\n",
    "* remove the given item using **<code>remove(item)</code>** method\n",
    "*  remove an item at the given index using **<code>pop(index)</code>** method"
   ]
  },
  {
   "cell_type": "code",
   "execution_count": 32,
   "metadata": {},
   "outputs": [
    {
     "name": "stdout",
     "output_type": "stream",
     "text": [
      "List after remove: [1, 5, 7, 9, 11, 13]\n",
      "List after pop: [1, 3, 5, 9, 11, 13]\n"
     ]
    }
   ],
   "source": [
    "odd = [1, 3, 5, 7, 9, 11, 13]\n",
    "\n",
    "odd.remove(3) # remove 3\n",
    "\n",
    "print(\"List after remove:\", odd)\n",
    "\n",
    "\n",
    "odd = [1, 3, 5, 7, 9, 11, 13]\n",
    "\n",
    "odd.pop(3) # remove 3rd item\n",
    "\n",
    "print(\"List after pop:\", odd)\n"
   ]
  },
  {
   "cell_type": "markdown",
   "metadata": {},
   "source": [
    "## Some methods of list:\n",
    "\n",
    "* **<code>clear()</code>** - Removes all items from the list\n",
    "* **<code>index()</code>** - Returns the index of the first matched item\n",
    "* **<code>count()</code>** - Returns the count of number of items passed as an argument\n",
    "* **<code>sort()</code>** - Sort items in a list in ascending order\n",
    "* **<code>reverse()</code>** - Reverse the order of items in the list"
   ]
  },
  {
   "cell_type": "code",
   "execution_count": 33,
   "metadata": {},
   "outputs": [
    {
     "name": "stdout",
     "output_type": "stream",
     "text": [
      "Index of '8' in list: 1\n",
      "Count of '8' in list: 2\n",
      "List after sort: [0, 1, 3, 4, 6, 8, 8]\n",
      "List after reverse: [8, 8, 6, 4, 3, 1, 0]\n",
      "List after clear: []\n"
     ]
    }
   ],
   "source": [
    "list1 = [3, 8, 1, 6, 0, 8, 4]\n",
    "\n",
    "print(\"Index of '8' in list:\", list1.index(8))\n",
    "\n",
    "print(\"Count of '8' in list:\", list1.count(8))\n",
    "\n",
    "list1.sort()\n",
    "\n",
    "print(\"List after sort:\", list1)\n",
    "\n",
    "list1.reverse()\n",
    "\n",
    "print(\"List after reverse:\", list1)\n",
    "\n",
    "list1.clear()\n",
    "\n",
    "print(\"List after clear:\", list1)"
   ]
  },
  {
   "cell_type": "markdown",
   "metadata": {
    "slideshow": {
     "slide_type": "subslide"
    }
   },
   "source": [
    "## List comprehension\n",
    "\n",
    "List comprehension is an elegant and concise way to create new list from an existing list in Python.\n",
    "\n",
    "List comprehension consists of an expression followed by **for** statement inside square brackets."
   ]
  },
  {
   "cell_type": "code",
   "execution_count": 34,
   "metadata": {},
   "outputs": [
    {
     "name": "stdout",
     "output_type": "stream",
     "text": [
      "[0, 1, 4, 9, 16, 25, 36, 49, 64, 81]\n"
     ]
    }
   ],
   "source": [
    "squares = []\n",
    "for x in range(10):\n",
    "    squares.append(x**2)\n",
    "print(squares)"
   ]
  },
  {
   "cell_type": "code",
   "execution_count": 35,
   "metadata": {},
   "outputs": [
    {
     "name": "stdout",
     "output_type": "stream",
     "text": [
      "[0, 1, 4, 9, 16, 25, 36, 49, 64, 81]\n"
     ]
    }
   ],
   "source": [
    "print([x**2 for x in range(10)])"
   ]
  },
  {
   "cell_type": "code",
   "execution_count": 36,
   "metadata": {
    "slideshow": {
     "slide_type": "subslide"
    }
   },
   "outputs": [
    {
     "name": "stdout",
     "output_type": "stream",
     "text": [
      "[(1, 2), (1, 3), (2, 1), (2, 3), (3, 1), (3, 2)]\n"
     ]
    }
   ],
   "source": [
    "array = []\n",
    "for x in [1,2,3]:\n",
    "    for y in [1, 2, 3]:\n",
    "        if x != y:\n",
    "            array.append((x, y))\n",
    "print(array)"
   ]
  },
  {
   "cell_type": "code",
   "execution_count": 37,
   "metadata": {},
   "outputs": [
    {
     "name": "stdout",
     "output_type": "stream",
     "text": [
      "[(1, 2), (1, 3), (2, 1), (2, 3), (3, 1), (3, 2)]\n"
     ]
    }
   ],
   "source": [
    "print([(x, y) for x in [1,2,3] for y in [1,2,3] if x != y])"
   ]
  },
  {
   "cell_type": "markdown",
   "metadata": {},
   "source": [
    "## Iterating Through a List\n",
    "\n",
    "Using a for loop we can iterate though each item in a list."
   ]
  },
  {
   "cell_type": "code",
   "execution_count": 38,
   "metadata": {},
   "outputs": [
    {
     "name": "stdout",
     "output_type": "stream",
     "text": [
      "I like apple\n",
      "I like banana\n",
      "I like mango\n"
     ]
    }
   ],
   "source": [
    "for fruit in ['apple','banana','mango']:\n",
    "    print(\"I like\",fruit)"
   ]
  }
 ],
 "metadata": {
  "kernelspec": {
   "display_name": "Python 3",
   "language": "python",
   "name": "python3"
  },
  "language_info": {
   "codemirror_mode": {
    "name": "ipython",
    "version": 3
   },
   "file_extension": ".py",
   "mimetype": "text/x-python",
   "name": "python",
   "nbconvert_exporter": "python",
   "pygments_lexer": "ipython3",
   "version": "3.6.4"
  }
 },
 "nbformat": 4,
 "nbformat_minor": 1
}
